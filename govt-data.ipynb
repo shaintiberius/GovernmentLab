{
 "cells": [
  {
   "cell_type": "code",
   "execution_count": 1,
   "id": "4af15d34",
   "metadata": {},
   "outputs": [],
   "source": [
    "import pandas as pd"
   ]
  },
  {
   "cell_type": "code",
   "execution_count": 2,
   "id": "cdb2322a",
   "metadata": {},
   "outputs": [],
   "source": [
    "import numpy as np"
   ]
  },
  {
   "cell_type": "code",
   "execution_count": 3,
   "id": "4ec11cc1",
   "metadata": {},
   "outputs": [
    {
     "name": "stdout",
     "output_type": "stream",
     "text": [
      "      A   B   C   D   E   F   G   H   I   J   K   L\n",
      "0    72  90  14  18  70  78  31   9  44  81  47  60\n",
      "1    88   8  96  98  20  13  64  14  83  47  89  21\n",
      "2    93  45  21  73  50  89   9  64  94  20  46  50\n",
      "3    18  11  96   8  44  29  44  26  24  71  16  94\n",
      "4    40  59  18  63  77  94  19  48  93  32  52  71\n",
      "..   ..  ..  ..  ..  ..  ..  ..  ..  ..  ..  ..  ..\n",
      "995  35  69  40  49  54  54  97  80  23  30  48  70\n",
      "996  84  90  27  78  50  28  23  95  31   5  26  38\n",
      "997   8  32   0   3  62  18  30  47  97  47  49  96\n",
      "998   3  66   9  37   9  93  87  60   0  15  31   7\n",
      "999  37  49  60  13  83  42  51  68  49  78  10   8\n",
      "\n",
      "[1000 rows x 12 columns]\n"
     ]
    }
   ],
   "source": [
    "df = pd.DataFrame (np.random.randint(0,100, size = (1000,12)), columns = list('ABCDEFGHIJKL')) \n",
    "print (df)"
   ]
  },
  {
   "cell_type": "code",
   "execution_count": 4,
   "id": "c00ebaa3",
   "metadata": {},
   "outputs": [
    {
     "name": "stdout",
     "output_type": "stream",
     "text": [
      "        PPPOS  h_seq       pwwgt0      pwwgt1       pwwgt2      pwwgt3  \\\n",
      "0          41      1   687.712149  323.975962  1221.023323  326.156735   \n",
      "1          42      1   687.712149  323.975962  1221.023323  326.156735   \n",
      "2          43      1   646.863694  308.068775  1168.346718  298.394817   \n",
      "3          41      2  1516.949669  718.779450  2686.502990  677.862459   \n",
      "4          42      2  1516.949669  718.779450  2686.502990  677.862459   \n",
      "...       ...    ...          ...         ...          ...         ...   \n",
      "163538     41  90757   514.111805  518.161754   587.070494  530.353412   \n",
      "163539     41  90758   516.251599  511.902171   519.312853  469.500406   \n",
      "163540     42  90758   516.251599  511.902171   519.312853  469.500406   \n",
      "163541     41  90759   386.368825  385.304784    99.386180  104.844456   \n",
      "163542     42  90759   386.368825  385.304784    99.386180  104.844456   \n",
      "\n",
      "             pwwgt4       pwwgt5       pwwgt6       pwwgt7  ...     pwwgt151  \\\n",
      "0       1133.116722  1112.212707   954.452502  1062.392516  ...  1221.291071   \n",
      "1       1133.116722  1112.212707   954.452502  1062.392516  ...  1221.291071   \n",
      "2       1091.359387  1087.884646   907.184658  1013.802678  ...  1166.961890   \n",
      "3       2419.082010  2429.801801  2092.587109  2348.457674  ...  2792.437225   \n",
      "4       2419.082010  2429.801801  2092.587109  2348.457674  ...  2792.437225   \n",
      "...             ...          ...          ...          ...  ...          ...   \n",
      "163538  1054.377618   483.273008   510.271419   479.984832  ...   149.412307   \n",
      "163539   843.373315   592.685191   508.130417   522.243954  ...   141.928249   \n",
      "163540   843.373315   592.685191   508.130417   522.243954  ...   141.928249   \n",
      "163541   105.555536   114.358923   748.643790   432.716095  ...   637.314651   \n",
      "163542   105.555536   114.358923   748.643790   432.716095  ...   637.314651   \n",
      "\n",
      "          pwwgt152     pwwgt153     pwwgt154    pwwgt155    pwwgt156  \\\n",
      "0       293.851870  1072.513946  1023.574766  298.741353  327.054383   \n",
      "1       293.851870  1072.513946  1023.574766  298.741353  327.054383   \n",
      "2       281.149084   971.616498   958.766125  292.271286  303.513988   \n",
      "3       661.335312  2327.482971  2194.736780  671.829906  726.298924   \n",
      "4       661.335312  2327.482971  2194.736780  671.829906  726.298924   \n",
      "...            ...          ...          ...         ...         ...   \n",
      "163538  152.701266   919.889298   500.409712  562.293660  133.714274   \n",
      "163539  176.484292   888.471949   492.449253  551.115137  146.418233   \n",
      "163540  176.484292   888.471949   492.449253  551.115137  146.418233   \n",
      "163541  618.677821   420.091646   114.272221  104.268594  356.421777   \n",
      "163542  618.677821   420.091646   114.272221  104.268594  356.421777   \n",
      "\n",
      "          pwwgt157    pwwgt158     pwwgt159    pwwgt160  \n",
      "0       356.201492  345.296250  1169.487879  345.888143  \n",
      "1       356.201492  345.296250  1169.487879  345.888143  \n",
      "2       342.743553  337.968975  1090.257954  319.273307  \n",
      "3       823.030114  816.569755  2575.111040  741.860972  \n",
      "4       823.030114  816.569755  2575.111040  741.860972  \n",
      "...            ...         ...          ...         ...  \n",
      "163538  898.776340  526.572430   524.367951  893.933975  \n",
      "163539  851.682423  517.340003   567.848293  987.432181  \n",
      "163540  851.682423  517.340003   567.848293  987.432181  \n",
      "163541  636.296572  118.170174   646.848203  396.854171  \n",
      "163542  636.296572  118.170174   646.848203  396.854171  \n",
      "\n",
      "[163543 rows x 163 columns]\n"
     ]
    }
   ],
   "source": [
    "df = pd.read_csv('../asecpub21csv/asec_csv_repwgt_2021.csv')\n",
    "print(df)"
   ]
  },
  {
   "cell_type": "code",
   "execution_count": 5,
   "id": "2d37c8eb",
   "metadata": {},
   "outputs": [
    {
     "name": "stdout",
     "output_type": "stream",
     "text": [
      "['PPPOS', 'h_seq', 'pwwgt0', 'pwwgt1', 'pwwgt2', 'pwwgt3', 'pwwgt4', 'pwwgt5', 'pwwgt6', 'pwwgt7', 'pwwgt8', 'pwwgt9', 'pwwgt10', 'pwwgt11', 'pwwgt12', 'pwwgt13', 'pwwgt14', 'pwwgt15', 'pwwgt16', 'pwwgt17', 'pwwgt18', 'pwwgt19', 'pwwgt20', 'pwwgt21', 'pwwgt22', 'pwwgt23', 'pwwgt24', 'pwwgt25', 'pwwgt26', 'pwwgt27', 'pwwgt28', 'pwwgt29', 'pwwgt30', 'pwwgt31', 'pwwgt32', 'pwwgt33', 'pwwgt34', 'pwwgt35', 'pwwgt36', 'pwwgt37', 'pwwgt38', 'pwwgt39', 'pwwgt40', 'pwwgt41', 'pwwgt42', 'pwwgt43', 'pwwgt44', 'pwwgt45', 'pwwgt46', 'pwwgt47', 'pwwgt48', 'pwwgt49', 'pwwgt50', 'pwwgt51', 'pwwgt52', 'pwwgt53', 'pwwgt54', 'pwwgt55', 'pwwgt56', 'pwwgt57', 'pwwgt58', 'pwwgt59', 'pwwgt60', 'pwwgt61', 'pwwgt62', 'pwwgt63', 'pwwgt64', 'pwwgt65', 'pwwgt66', 'pwwgt67', 'pwwgt68', 'pwwgt69', 'pwwgt70', 'pwwgt71', 'pwwgt72', 'pwwgt73', 'pwwgt74', 'pwwgt75', 'pwwgt76', 'pwwgt77', 'pwwgt78', 'pwwgt79', 'pwwgt80', 'pwwgt81', 'pwwgt82', 'pwwgt83', 'pwwgt84', 'pwwgt85', 'pwwgt86', 'pwwgt87', 'pwwgt88', 'pwwgt89', 'pwwgt90', 'pwwgt91', 'pwwgt92', 'pwwgt93', 'pwwgt94', 'pwwgt95', 'pwwgt96', 'pwwgt97', 'pwwgt98', 'pwwgt99', 'pwwgt100', 'pwwgt101', 'pwwgt102', 'pwwgt103', 'pwwgt104', 'pwwgt105', 'pwwgt106', 'pwwgt107', 'pwwgt108', 'pwwgt109', 'pwwgt110', 'pwwgt111', 'pwwgt112', 'pwwgt113', 'pwwgt114', 'pwwgt115', 'pwwgt116', 'pwwgt117', 'pwwgt118', 'pwwgt119', 'pwwgt120', 'pwwgt121', 'pwwgt122', 'pwwgt123', 'pwwgt124', 'pwwgt125', 'pwwgt126', 'pwwgt127', 'pwwgt128', 'pwwgt129', 'pwwgt130', 'pwwgt131', 'pwwgt132', 'pwwgt133', 'pwwgt134', 'pwwgt135', 'pwwgt136', 'pwwgt137', 'pwwgt138', 'pwwgt139', 'pwwgt140', 'pwwgt141', 'pwwgt142', 'pwwgt143', 'pwwgt144', 'pwwgt145', 'pwwgt146', 'pwwgt147', 'pwwgt148', 'pwwgt149', 'pwwgt150', 'pwwgt151', 'pwwgt152', 'pwwgt153', 'pwwgt154', 'pwwgt155', 'pwwgt156', 'pwwgt157', 'pwwgt158', 'pwwgt159', 'pwwgt160']\n"
     ]
    }
   ],
   "source": [
    "#list columns in data frame\n",
    "print(list(df))"
   ]
  },
  {
   "cell_type": "code",
   "execution_count": 8,
   "id": "46788ef7",
   "metadata": {},
   "outputs": [
    {
     "name": "stdout",
     "output_type": "stream",
     "text": [
      "    (I dont know what PPPOS is)   freq\n",
      "0                            41  62850\n",
      "1                            42  46694\n",
      "2                            43  26431\n",
      "3                            44  16184\n",
      "4                            45   7023\n",
      "5                            46   2618\n",
      "6                            47    999\n",
      "7                            48    419\n",
      "8                            49    172\n",
      "9                            50     76\n",
      "10                           51     40\n",
      "11                           52     22\n",
      "12                           53      9\n",
      "13                           54      5\n",
      "14                           55      1\n"
     ]
    }
   ],
   "source": [
    "col = 'PPPOS' #<-edit this value! column name as it appears in dataframe\n",
    "col_name = '(I dont know what PPPOS is)' #<-edit this value! descriptive name for column\n",
    "freq = df[col].value_counts().rename_axis(col_name).reset_index(name='freq')\n",
    "freq = freq.sort_values(by = col_name)\n",
    "print(freq)"
   ]
  },
  {
   "cell_type": "code",
   "execution_count": 10,
   "id": "bb10847b",
   "metadata": {},
   "outputs": [
    {
     "data": {
      "image/png": "[encoded data removed]",
      "text/plain": [
       "<Figure size 432x288 with 1 Axes>"
      ]
     },
     "metadata": {
      "needs_background": "light"
     },
     "output_type": "display_data"
    }
   ],
   "source": [
    "ax = freq.plot.barh(x=col_name, y='freq', rot=0)"
   ]
  }
 ],
 "metadata": {
  "kernelspec": {
   "display_name": "Python 3 (ipykernel)",
   "language": "python",
   "name": "python3"
  },
  "language_info": {
   "codemirror_mode": {
    "name": "ipython",
    "version": 3
   },
   "file_extension": ".py",
   "mimetype": "text/x-python",
   "name": "python",
   "nbconvert_exporter": "python",
   "pygments_lexer": "ipython3",
   "version": "3.9.12"
  }
 },
 "nbformat": 4,
 "nbformat_minor": 5
}
